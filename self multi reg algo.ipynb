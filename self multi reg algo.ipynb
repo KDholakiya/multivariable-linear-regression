{
 "cells": [
  {
   "cell_type": "code",
   "execution_count": 148,
   "metadata": {},
   "outputs": [],
   "source": [
    "# import necessory library\n",
    "import numpy as np\n",
    "import pandas as pd\n",
   ]
  },
  {
   "cell_type": "code",
   "execution_count": 150,
   "metadata": {},
   "outputs": [],
   "source": [
    "# load data\n",
    "df = pd.read_csv(\"D:/Machine Learning/datasets/Housing full.csv\")\n",
    "# price/lotsize/bedrooms/bathrms/stories/driveway/recroom/fullbase/gashw/airco/garagepl/prefarea"
   ]
  },
  {
   "cell_type": "code",
   "execution_count": 151,
   "metadata": {},
   "outputs": [],
   "source": [
    "def normalize(data):\n",
    "#   normalize by data = (x-mean of data) / stddev of data\n",
    "#   here data is our features(X)\n",
    "    mean = np.mean(data)\n",
    "    std = np.std(data)\n",
    "    data = ( data - mean ) / std\n",
    "#     return mean and std because it needed in predicting values\n",
    "    return data,mean,std"
   ]
  },
  {
   "cell_type": "code",
   "execution_count": 152,
   "metadata": {},
   "outputs": [],
   "source": [
    "# cost functoin\n",
    "def calc_cost(x,y,w):\n",
    "    return round( ( (np.sum( (y - np.sum((w*x),axis=1))**2 ) ) / (2*len(y)) ),3 )\n",
    "# calc_cost(X,Y,[1,1,1,1,1,1,1,1,1,1,1,1])"
   ]
  },
  {
   "cell_type": "code",
   "execution_count": 153,
   "metadata": {},
   "outputs": [],
   "source": [
    "# gradeint decent algorithm\n",
    "# here alpha = vecor of weights\n",
    "# theta = learning rate\n",
    "# iters = number of steps\n",
    "def gradient_decent(x,y,alpha,theta,iters):\n",
    "    for i in range(iters):\n",
    "        theta = gradient_step(x,y,alpha,theta)\n",
    "    err = calc_cost(x,y,theta)\n",
    "    return theta , err"
   ]
  },
  {
   "cell_type": "code",
   "execution_count": 154,
   "metadata": {},
   "outputs": [],
   "source": [
    "# now implement actual algorithm\n",
    "def gradient_step(x,y,alpha,w):\n",
    "    m = len(y)\n",
    "    pred = np.sum((w*x),axis = 1)\n",
    "    pred = y - pred \n",
    "    deriv = np.sum( ((-x)*pred[:,np.newaxis]),axis=0 )\n",
    "    w = w - (alpha * (deriv/m) )\n",
    "    return w"
   ]
  },
  {
   "cell_type": "code",
   "execution_count": 155,
   "metadata": {},
   "outputs": [],
   "source": [
    "def predict(x,theta,mean,std):\n",
    "#     first of all normalize x (test set) because we train our data at normalized scale\n",
    "    x = np.array((x - mean) / std)\n",
    "#     insert 1 at 0th index\n",
    "    x = np.insert(x,0,1)\n",
    "#     return predicted value\n",
    "    return np.sum(x*theta)"
   ]
  },
  {
   "cell_type": "code",
   "execution_count": 159,
   "metadata": {},
   "outputs": [],
   "source": [
    "# saparate features and target\n",
    "X = df.iloc[:,1:]\n",
    "Y = df.iloc[:,0]\n",
    "# nomrlize data\n",
    "X, mean, std = normalize(X)\n",
    "\n",
    "# attach ones to X for  X0\n",
    "ones = np.ones((len(X),1),dtype=int)\n",
    "X = np.concatenate((ones,X),axis=1)"
   ]
  },
  {
   "cell_type": "code",
   "execution_count": 168,
   "metadata": {},
   "outputs": [
    {
     "name": "stdout",
     "output_type": "stream",
     "text": [
      "weights :  [65810.63081197  6469.47074437  1101.38936178  5948.91623595\n",
      "  5373.29151185  2502.82192446  1873.27637364  2099.65170304\n",
      "  2876.92070927  5360.65379738  2562.44463766  3231.57584516] \n",
      "\n",
      "mean squared err :  95476225.818\n"
     ]
    }
   ],
   "source": [
    "# initialize theta to 0 or any value\n",
    "theta = np.zeros(X.shape[1])\n",
    "# run gradidnt decent\n",
    "theta , err = gradient_decent(X,Y,0.01,theta,1000)\n",
    "print(\"weights : \",theta,\"\\n\\nmean squared err : \",err)"
   ]
  },
  {
   "cell_type": "code",
   "execution_count": 160,
   "metadata": {},
   "outputs": [
    {
     "data": {
      "text/plain": [
       "128404.97955814013"
      ]
     },
     "execution_count": 160,
     "metadata": {},
     "output_type": "execute_result"
    }
   ],
   "source": [
    "# predict price with these features\n",
    "p = [2000,4,3,4,1,1,1,1,1,1,1]\n",
    "pred = predict(p,theta,mean,std)\n",
    "print(pred)"
   ]
  }
 ],
 "metadata": {
  "kernelspec": {
   "display_name": "Python 3",
   "language": "python",
   "name": "python3"
  }
 },
 "nbformat": 4,
 "nbformat_minor": 2
}
